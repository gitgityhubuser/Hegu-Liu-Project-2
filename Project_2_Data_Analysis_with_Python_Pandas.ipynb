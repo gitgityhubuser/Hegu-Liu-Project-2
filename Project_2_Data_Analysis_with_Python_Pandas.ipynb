{
  "nbformat": 4,
  "nbformat_minor": 0,
  "metadata": {
    "colab": {
      "provenance": []
    },
    "kernelspec": {
      "name": "python3",
      "display_name": "Python 3"
    },
    "language_info": {
      "name": "python"
    }
  },
  "cells": [
    {
      "cell_type": "markdown",
      "source": [
        "#####Project 2\n",
        "by Hegu Liu, Alex Leahy"
      ],
      "metadata": {
        "id": "6YQNsFDQppcJ"
      }
    },
    {
      "cell_type": "markdown",
      "source": [
        "Import Libraries"
      ],
      "metadata": {
        "id": "6rwGYZBPU0yr"
      }
    },
    {
      "cell_type": "code",
      "execution_count": null,
      "metadata": {
        "id": "Jj6-1im8UvIZ"
      },
      "outputs": [],
      "source": [
        "import pandas as pd\n",
        "import numpy as np\n",
        "import matplotlib.pyplot as plt\n",
        "import seaborn as sns\n",
        "%matplotlib inline"
      ]
    },
    {
      "cell_type": "markdown",
      "source": [
        "Load Datas"
      ],
      "metadata": {
        "id": "WSU0tpiDVB16"
      }
    },
    {
      "cell_type": "code",
      "source": [
        "orders_df = pd.read_csv('orders.csv')\n",
        "products_df = pd.read_csv('products.csv')"
      ],
      "metadata": {
        "id": "pg8zo3RSVDry"
      },
      "execution_count": null,
      "outputs": []
    },
    {
      "cell_type": "markdown",
      "source": [
        "**Introduction**\n",
        "\n",
        "In this project, we analyze the Instacart Market Basket dataset. Our goal is to understand shopping patterns, product popularity, and customer behavior. We will use Python and its libraries like Pandas and Seaborn for data manipulation and visualization."
      ],
      "metadata": {
        "id": "2PNQgJm4Wikz"
      }
    },
    {
      "cell_type": "markdown",
      "source": [
        "### Data Exploration\n",
        "First, we explore the datasets to understand their structure, content, and the relationships between them."
      ],
      "metadata": {
        "id": "NL_7luHNW1Vu"
      }
    },
    {
      "cell_type": "code",
      "source": [
        "print(orders_df.head())\n",
        "print(orders_df.info())"
      ],
      "metadata": {
        "colab": {
          "base_uri": "https://localhost:8080/"
        },
        "id": "ccRaYG-cYT-s",
        "outputId": "aaa3d5ce-3eae-487d-9e70-ef5d7f514718"
      },
      "execution_count": null,
      "outputs": [
        {
          "output_type": "stream",
          "name": "stdout",
          "text": [
            "   order_id  user_id eval_set  order_number  order_dow  order_hour_of_day  \\\n",
            "0   2539329        1    prior             1          2                  8   \n",
            "1   2398795        1    prior             2          3                  7   \n",
            "2    473747        1    prior             3          3                 12   \n",
            "3   2254736        1    prior             4          4                  7   \n",
            "4    431534        1    prior             5          4                 15   \n",
            "\n",
            "   days_since_prior_order  \n",
            "0                     NaN  \n",
            "1                    15.0  \n",
            "2                    21.0  \n",
            "3                    29.0  \n",
            "4                    28.0  \n",
            "<class 'pandas.core.frame.DataFrame'>\n",
            "RangeIndex: 3421083 entries, 0 to 3421082\n",
            "Data columns (total 7 columns):\n",
            " #   Column                  Dtype  \n",
            "---  ------                  -----  \n",
            " 0   order_id                int64  \n",
            " 1   user_id                 int64  \n",
            " 2   eval_set                object \n",
            " 3   order_number            int64  \n",
            " 4   order_dow               int64  \n",
            " 5   order_hour_of_day       int64  \n",
            " 6   days_since_prior_order  float64\n",
            "dtypes: float64(1), int64(5), object(1)\n",
            "memory usage: 182.7+ MB\n",
            "None\n"
          ]
        }
      ]
    },
    {
      "cell_type": "markdown",
      "source": [
        "\n",
        "### Checking for Missing Values\n",
        "Identifying and handling missing values is crucial to ensure the quality of our analysis.\n"
      ],
      "metadata": {
        "id": "_STceb43YaLx"
      }
    },
    {
      "cell_type": "code",
      "source": [
        "print(orders_df.isnull().sum())"
      ],
      "metadata": {
        "id": "ltRLDN4-YcUd"
      },
      "execution_count": null,
      "outputs": []
    },
    {
      "cell_type": "markdown",
      "source": [
        "# Handling missing values - Example"
      ],
      "metadata": {
        "id": "4RIgfCz1YfEG"
      }
    },
    {
      "cell_type": "code",
      "source": [
        "orders_df['days_since_prior_order'].fillna(orders_df['days_since_prior_order'].median(), inplace=True)"
      ],
      "metadata": {
        "id": "q0w1A7VYYe0v"
      },
      "execution_count": null,
      "outputs": []
    },
    {
      "cell_type": "markdown",
      "source": [
        "## Exploratory Data Analysis (EDA)\n",
        "Example visualization: Order distribution by day of the week"
      ],
      "metadata": {
        "id": "CDw5temmYAvR"
      }
    },
    {
      "cell_type": "code",
      "source": [
        "sns.countplot(x='order_dow', data=orders_df)\n",
        "plt.xlabel('Day of Week')\n",
        "plt.ylabel('Number of Orders')\n",
        "plt.title('Order Frequency by Day of Week')\n",
        "plt.show()"
      ],
      "metadata": {
        "colab": {
          "base_uri": "https://localhost:8080/",
          "height": 472
        },
        "id": "Rvv_nlYaY1R7",
        "outputId": "a5913697-eef4-4768-8362-90bf8587b381"
      },
      "execution_count": null,
      "outputs": [
        {
          "output_type": "display_data",
          "data": {
            "text/plain": [
              "<Figure size 640x480 with 1 Axes>"
            ],
            "image/png": "[encoded data removed]"
          },
          "metadata": {}
        }
      ]
    },
    {
      "cell_type": "markdown",
      "source": [
        "###Feature Engineering"
      ],
      "metadata": {
        "id": "nOro0naYZCBM"
      }
    },
    {
      "cell_type": "code",
      "source": [
        "orders_df['is_first_order'] = orders_df['days_since_prior_order'].apply(lambda x: 1 if x == 0 else 0)"
      ],
      "metadata": {
        "id": "gGOGXlD6ZF4g"
      },
      "execution_count": null,
      "outputs": []
    },
    {
      "cell_type": "markdown",
      "source": [
        "## Conclusions\n",
        "In this project, we explored the Instacart Market Basket dataset and gained valuable insights into customer behavior and product popularity. These findings can help in strategic decision making for targeted marketing, inventory management, and customer relationship development."
      ],
      "metadata": {
        "id": "m1anOu3gZNFf"
      }
    },
    {
      "cell_type": "markdown",
      "source": [
        "## References\n",
        "https://www.kaggle.com/competitions/instacart-market-basket-analysis/data"
      ],
      "metadata": {
        "id": "U2Di8HpGZdNy"
      }
    }
  ]
}